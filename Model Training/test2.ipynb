{
 "cells": [
  {
   "cell_type": "code",
   "execution_count": 1,
   "metadata": {},
   "outputs": [],
   "source": [
    "import joblib\n",
    "\n",
    "# Load the model\n",
    "model = joblib.load(\"time_series_model.pkl\")\n"
   ]
  },
  {
   "cell_type": "code",
   "execution_count": 2,
   "metadata": {},
   "outputs": [
    {
     "name": "stdout",
     "output_type": "stream",
     "text": [
      "<class 'sklearn.ensemble._forest.RandomForestRegressor'>\n"
     ]
    }
   ],
   "source": [
    "print(type(model))\n"
   ]
  },
  {
   "cell_type": "code",
   "execution_count": 3,
   "metadata": {},
   "outputs": [
    {
     "name": "stdout",
     "output_type": "stream",
     "text": [
      "Required features: ['Avg. Period Pain' 'Avg. Pelvic Pain' 'Avg. Period Flow'\n",
      " 'Avg. Pain During Sex' 'Avg. Fatigue Level' 'Avg. Constipation'\n",
      " 'Avg. Diarrhea' 'Avg. Pain During Bowel Movements'\n",
      " 'Avg. Pain During Urination' 'Avg. Nausea' 'Avg. Unexplained Bleeding']\n"
     ]
    }
   ],
   "source": [
    "if hasattr(model, \"feature_names_in_\"):\n",
    "    print(\"Required features:\", model.feature_names_in_)\n",
    "elif hasattr(model, \"get_params\"):\n",
    "    print(\"Model parameters:\", model.get_params())\n",
    "else:\n",
    "    print(\"Model structure:\", model)\n"
   ]
  },
  {
   "cell_type": "code",
   "execution_count": 4,
   "metadata": {},
   "outputs": [],
   "source": [
    "from sklearn.pipeline import Pipeline\n",
    "\n",
    "if isinstance(model, Pipeline):\n",
    "    print(\"Pipeline steps:\")\n",
    "    for name, step in model.steps:\n",
    "        print(f\"{name}: {step}\")\n"
   ]
  },
  {
   "cell_type": "code",
   "execution_count": null,
   "metadata": {},
   "outputs": [
    {
     "name": "stdout",
     "output_type": "stream",
     "text": [
      "Prediction: [4.2973]\n"
     ]
    }
   ],
   "source": [
    "import numpy as np\n",
    "import pandas as pd\n",
    "import joblib\n",
    "\n",
    "# Load the model\n",
    "model = joblib.load(\"time_series_model.pkl\")\n",
    "\n",
    "# Create a DataFrame with the required features\n",
    "sample_input = pd.DataFrame({\n",
    "    \"Avg. Period Pain\": [5.5],  \n",
    "    \"Avg. Pelvic Pain\": [4.2],\n",
    "    \"Avg. Period Flow\": [2.0],\n",
    "    \"Avg. Pain During Sex\": [3.8],\n",
    "    \"Avg. Fatigue Level\": [6.1],\n",
    "    \"Avg. Constipation\": [2.7],\n",
    "    \"Avg. Diarrhea\": [3.3],\n",
    "    \"Avg. Pain During Bowel Movements\": [5.4],\n",
    "    \"Avg. Pain During Urination\": [4.0],\n",
    "    \"Avg. Nausea\": [3.2],\n",
    "    \"Avg. Unexplained Bleeding\": [1.5]\n",
    "})\n",
    "\n",
    "# Predict using the model\n",
    "try:\n",
    "    prediction = model.predict(sample_input)\n",
    "    print(\"Prediction:\", prediction)\n",
    "except Exception as e:\n",
    "    print(\"Error:\", e)\n"
   ]
  },
  {
   "cell_type": "code",
   "execution_count": null,
   "metadata": {},
   "outputs": [],
   "source": []
  }
 ],
 "metadata": {
  "kernelspec": {
   "display_name": "venv",
   "language": "python",
   "name": "python3"
  },
  "language_info": {
   "codemirror_mode": {
    "name": "ipython",
    "version": 3
   },
   "file_extension": ".py",
   "mimetype": "text/x-python",
   "name": "python",
   "nbconvert_exporter": "python",
   "pygments_lexer": "ipython3",
   "version": "3.12.7"
  }
 },
 "nbformat": 4,
 "nbformat_minor": 2
}
