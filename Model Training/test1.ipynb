{
 "cells": [
  {
   "cell_type": "code",
   "execution_count": 1,
   "metadata": {},
   "outputs": [],
   "source": [
    "import joblib\n",
    "\n",
    "# Load the model\n",
    "model = joblib.load(\"optimized_daily_symptom_model.pkl\")\n"
   ]
  },
  {
   "cell_type": "code",
   "execution_count": 2,
   "metadata": {},
   "outputs": [
    {
     "name": "stdout",
     "output_type": "stream",
     "text": [
      "<class 'sklearn.ensemble._forest.RandomForestClassifier'>\n"
     ]
    }
   ],
   "source": [
    "print(type(model))\n"
   ]
  },
  {
   "cell_type": "code",
   "execution_count": 3,
   "metadata": {},
   "outputs": [
    {
     "name": "stdout",
     "output_type": "stream",
     "text": [
      "Required features: ['Period Pain (1-10)' 'Pelvic Pain (1-10)'\n",
      " 'Period Flow (Light=1/Moderate=2/Heavy=3)' 'Pain During Sex (1-10)'\n",
      " 'Fatigue Level (1-10)' 'Constipation (1-10)' 'Diarrhea (1-10)'\n",
      " 'Pain During Bowel Movement (1-10)' 'Pain During Urination (1-10)'\n",
      " 'Nausea (1-10)' 'Unexplained Bleeding (1-10)']\n"
     ]
    }
   ],
   "source": [
    "if hasattr(model, \"feature_names_in_\"):\n",
    "    print(\"Required features:\", model.feature_names_in_)\n",
    "elif hasattr(model, \"get_params\"):\n",
    "    print(\"Model parameters:\", model.get_params())\n",
    "else:\n",
    "    print(\"Model structure:\", model)\n"
   ]
  },
  {
   "cell_type": "code",
   "execution_count": 4,
   "metadata": {},
   "outputs": [],
   "source": [
    "from sklearn.pipeline import Pipeline\n",
    "\n",
    "if isinstance(model, Pipeline):\n",
    "    print(\"Pipeline steps:\")\n",
    "    for name, step in model.steps:\n",
    "        print(f\"{name}: {step}\")\n"
   ]
  },
  {
   "cell_type": "code",
   "execution_count": null,
   "metadata": {},
   "outputs": [
    {
     "name": "stdout",
     "output_type": "stream",
     "text": [
      "Prediction: [6]\n"
     ]
    }
   ],
   "source": [
    "import numpy as np\n",
    "import pandas as pd\n",
    "import joblib\n",
    "\n",
    "# Load the model\n",
    "model = joblib.load(\"optimized_daily_symptom_model.pkl\")\n",
    "\n",
    "# Create a DataFrame with the required features\n",
    "sample_input = pd.DataFrame({\n",
    "    \"Period Pain (1-10)\": [8],  \n",
    "    \"Pelvic Pain (1-10)\": [7],\n",
    "    \"Period Flow (Light=1/Moderate=2/Heavy=3)\": [6],\n",
    "    \"Pain During Sex (1-10)\": [9],\n",
    "    \"Fatigue Level (1-10)\": [9],\n",
    "    \"Constipation (1-10)\": [8],\n",
    "    \"Diarrhea (1-10)\": [9],\n",
    "    \"Pain During Bowel Movement (1-10)\": [7],\n",
    "    \"Pain During Urination (1-10)\": [8],\n",
    "    \"Nausea (1-10)\": [8],\n",
    "    \"Unexplained Bleeding (1-10)\": [8]\n",
    "})\n",
    "\n",
    "# Predict using the model\n",
    "try:\n",
    "    prediction = model.predict(sample_input)\n",
    "    print(\"Prediction:\", prediction)\n",
    "except Exception as e:\n",
    "    print(\"Error:\", e)\n"
   ]
  }
 ],
 "metadata": {
  "kernelspec": {
   "display_name": "venv",
   "language": "python",
   "name": "python3"
  },
  "language_info": {
   "codemirror_mode": {
    "name": "ipython",
    "version": 3
   },
   "file_extension": ".py",
   "mimetype": "text/x-python",
   "name": "python",
   "nbconvert_exporter": "python",
   "pygments_lexer": "ipython3",
   "version": "3.12.7"
  }
 },
 "nbformat": 4,
 "nbformat_minor": 2
}
